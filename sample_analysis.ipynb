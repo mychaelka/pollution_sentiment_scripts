{
 "cells": [
  {
   "cell_type": "markdown",
   "metadata": {},
   "source": [
    "# Sample tweets sentiment analysis"
   ]
  },
  {
   "cell_type": "code",
   "execution_count": 1,
   "metadata": {},
   "outputs": [
    {
     "name": "stderr",
     "output_type": "stream",
     "text": [
      "/home/mysa/.local/lib/python3.10/site-packages/tqdm/auto.py:21: TqdmWarning: IProgress not found. Please update jupyter and ipywidgets. See https://ipywidgets.readthedocs.io/en/stable/user_install.html\n",
      "  from .autonotebook import tqdm as notebook_tqdm\n"
     ]
    }
   ],
   "source": [
    "import vaderSentiment\n",
    "from transformers import AutoTokenizer, AutoModelForSequenceClassification\n",
    "import pandas as pd\n",
    "from scipy.special import softmax"
   ]
  },
  {
   "cell_type": "markdown",
   "metadata": {},
   "source": [
    "### Load sample data"
   ]
  },
  {
   "cell_type": "code",
   "execution_count": 2,
   "metadata": {},
   "outputs": [
    {
     "data": {
      "text/html": [
       "<div>\n",
       "<style scoped>\n",
       "    .dataframe tbody tr th:only-of-type {\n",
       "        vertical-align: middle;\n",
       "    }\n",
       "\n",
       "    .dataframe tbody tr th {\n",
       "        vertical-align: top;\n",
       "    }\n",
       "\n",
       "    .dataframe thead th {\n",
       "        text-align: right;\n",
       "    }\n",
       "</style>\n",
       "<table border=\"1\" class=\"dataframe\">\n",
       "  <thead>\n",
       "    <tr style=\"text-align: right;\">\n",
       "      <th></th>\n",
       "      <th>name</th>\n",
       "      <th>handle</th>\n",
       "      <th>timestamp</th>\n",
       "      <th>location</th>\n",
       "      <th>text</th>\n",
       "    </tr>\n",
       "  </thead>\n",
       "  <tbody>\n",
       "    <tr>\n",
       "      <th>0</th>\n",
       "      <td>chillipalmer™</td>\n",
       "      <td>@ynnmedianetwork</td>\n",
       "      <td>2015-07-06T09:35:08.000Z</td>\n",
       "      <td>Southeast Dallas, Dallas</td>\n",
       "      <td>Twitter Reacts To JPP Fireworks Rumors http://...</td>\n",
       "    </tr>\n",
       "    <tr>\n",
       "      <th>1</th>\n",
       "      <td>Tyles</td>\n",
       "      <td>@tyles</td>\n",
       "      <td>2015-07-06T23:50:53.000Z</td>\n",
       "      <td>California, USA</td>\n",
       "      <td>Congratulations to \\n@obsolescence\\n and ptrev...</td>\n",
       "    </tr>\n",
       "    <tr>\n",
       "      <th>2</th>\n",
       "      <td>Ken J Gonzalez</td>\n",
       "      <td>@That_nigga_Puto</td>\n",
       "      <td>2015-07-07T05:13:07.000Z</td>\n",
       "      <td>Holyoke, MA</td>\n",
       "      <td>The 4th was too too real ! Thanks for awsome m...</td>\n",
       "    </tr>\n",
       "    <tr>\n",
       "      <th>3</th>\n",
       "      <td>Wole Wolexy</td>\n",
       "      <td>@iamWolexy</td>\n",
       "      <td>2015-07-07T03:34:18.000Z</td>\n",
       "      <td>Mesquite, TX</td>\n",
       "      <td>Perfection is not attainable, But If we chase ...</td>\n",
       "    </tr>\n",
       "    <tr>\n",
       "      <th>4</th>\n",
       "      <td>Lloy Ball #1</td>\n",
       "      <td>@LTPer</td>\n",
       "      <td>2015-07-06T19:20:43.000Z</td>\n",
       "      <td>Indiana, USA</td>\n",
       "      <td>@LBpineapple\\n sand vb training #evp #Plattsburgh</td>\n",
       "    </tr>\n",
       "    <tr>\n",
       "      <th>...</th>\n",
       "      <td>...</td>\n",
       "      <td>...</td>\n",
       "      <td>...</td>\n",
       "      <td>...</td>\n",
       "      <td>...</td>\n",
       "    </tr>\n",
       "    <tr>\n",
       "      <th>23411</th>\n",
       "      <td>Erin Sweeney</td>\n",
       "      <td>@e_sween15</td>\n",
       "      <td>2015-07-06T13:24:14.000Z</td>\n",
       "      <td>Marysville, OH</td>\n",
       "      <td>I would  https://twitter.com/exhllarating/stat...</td>\n",
       "    </tr>\n",
       "    <tr>\n",
       "      <th>23412</th>\n",
       "      <td>HomerJesse</td>\n",
       "      <td>@homerleal</td>\n",
       "      <td>2015-07-07T00:53:23.000Z</td>\n",
       "      <td>San Antonio, TX</td>\n",
       "      <td>Monday funday!! #loveit #awesome #tispy #sanan...</td>\n",
       "    </tr>\n",
       "    <tr>\n",
       "      <th>23413</th>\n",
       "      <td>511NYMidHudson</td>\n",
       "      <td>@511NYMidHudson</td>\n",
       "      <td>2015-07-06T13:00:36.000Z</td>\n",
       "      <td>Croton-on-Hudson, NY</td>\n",
       "      <td>Construction on #NorthSouthDivisionStreet BOTH...</td>\n",
       "    </tr>\n",
       "    <tr>\n",
       "      <th>23414</th>\n",
       "      <td>kels</td>\n",
       "      <td>@KelseyKielich</td>\n",
       "      <td>2015-07-06T22:11:20.000Z</td>\n",
       "      <td>Moore, OK</td>\n",
       "      <td>You make me happy &amp; it's Monday @ ur my crush ...</td>\n",
       "    </tr>\n",
       "    <tr>\n",
       "      <th>23415</th>\n",
       "      <td>Sammie Milhouse</td>\n",
       "      <td>@SammieDaBully</td>\n",
       "      <td>2015-07-06T17:28:26.000Z</td>\n",
       "      <td>Bamberg, SC</td>\n",
       "      <td>#6am #boxing #fitness #ShakeHouseBoxingStyle #...</td>\n",
       "    </tr>\n",
       "  </tbody>\n",
       "</table>\n",
       "<p>23416 rows × 5 columns</p>\n",
       "</div>"
      ],
      "text/plain": [
       "                  name            handle                 timestamp  \\\n",
       "0        chillipalmer™  @ynnmedianetwork  2015-07-06T09:35:08.000Z   \n",
       "1                Tyles            @tyles  2015-07-06T23:50:53.000Z   \n",
       "2       Ken J Gonzalez  @That_nigga_Puto  2015-07-07T05:13:07.000Z   \n",
       "3          Wole Wolexy        @iamWolexy  2015-07-07T03:34:18.000Z   \n",
       "4         Lloy Ball #1            @LTPer  2015-07-06T19:20:43.000Z   \n",
       "...                ...               ...                       ...   \n",
       "23411     Erin Sweeney        @e_sween15  2015-07-06T13:24:14.000Z   \n",
       "23412       HomerJesse        @homerleal  2015-07-07T00:53:23.000Z   \n",
       "23413   511NYMidHudson   @511NYMidHudson  2015-07-06T13:00:36.000Z   \n",
       "23414             kels    @KelseyKielich  2015-07-06T22:11:20.000Z   \n",
       "23415  Sammie Milhouse    @SammieDaBully  2015-07-06T17:28:26.000Z   \n",
       "\n",
       "                       location  \\\n",
       "0      Southeast Dallas, Dallas   \n",
       "1               California, USA   \n",
       "2                   Holyoke, MA   \n",
       "3                  Mesquite, TX   \n",
       "4                  Indiana, USA   \n",
       "...                         ...   \n",
       "23411            Marysville, OH   \n",
       "23412           San Antonio, TX   \n",
       "23413      Croton-on-Hudson, NY   \n",
       "23414                 Moore, OK   \n",
       "23415               Bamberg, SC   \n",
       "\n",
       "                                                    text  \n",
       "0      Twitter Reacts To JPP Fireworks Rumors http://...  \n",
       "1      Congratulations to \\n@obsolescence\\n and ptrev...  \n",
       "2      The 4th was too too real ! Thanks for awsome m...  \n",
       "3      Perfection is not attainable, But If we chase ...  \n",
       "4      @LBpineapple\\n sand vb training #evp #Plattsburgh  \n",
       "...                                                  ...  \n",
       "23411  I would  https://twitter.com/exhllarating/stat...  \n",
       "23412  Monday funday!! #loveit #awesome #tispy #sanan...  \n",
       "23413  Construction on #NorthSouthDivisionStreet BOTH...  \n",
       "23414  You make me happy & it's Monday @ ur my crush ...  \n",
       "23415  #6am #boxing #fitness #ShakeHouseBoxingStyle #...  \n",
       "\n",
       "[23416 rows x 5 columns]"
      ]
     },
     "execution_count": 2,
     "metadata": {},
     "output_type": "execute_result"
    }
   ],
   "source": [
    "sample = pd.read_csv(\"../data/tweets/tweets_sample.txt\", sep='|')\n",
    "sample"
   ]
  },
  {
   "cell_type": "markdown",
   "metadata": {},
   "source": [
    "### Functions for preprocessing tweets"
   ]
  },
  {
   "cell_type": "code",
   "execution_count": 3,
   "metadata": {},
   "outputs": [],
   "source": [
    "def preprocess_tweet(tweet):\n",
    "    \"\"\"remove user tags and urls\"\"\"\n",
    "    tweet_words = []\n",
    "\n",
    "    for word in tweet.split(' '):\n",
    "        word = '@user' if word.startswith('@') and len(word) > 1 else word            \n",
    "        word = 'http' if word.startswith('http') else word  # careful! sometimes emojis are not separated from URLs by spaces, need to take into account\n",
    "        tweet_words.append(word)\n",
    "        \n",
    "    return \" \".join(tweet_words)\n"
   ]
  },
  {
   "cell_type": "markdown",
   "metadata": {},
   "source": [
    "### roBERTa"
   ]
  },
  {
   "cell_type": "code",
   "execution_count": 4,
   "metadata": {},
   "outputs": [],
   "source": [
    "roberta = \"cardiffnlp/twitter-roberta-base-sentiment\"\n",
    "model = AutoModelForSequenceClassification.from_pretrained(roberta)\n",
    "tokenizer = AutoTokenizer.from_pretrained(roberta)\n",
    "\n",
    "labels = ['Negative', 'Neutral', 'Positive']"
   ]
  },
  {
   "cell_type": "code",
   "execution_count": 11,
   "metadata": {},
   "outputs": [
    {
     "name": "stdout",
     "output_type": "stream",
     "text": [
      "I am SO incredibly excited to get Away from here for 5 days😩 I just need a break... ¿You know?\n",
      "Negative : 0.0050168945\n",
      "Neutral : 0.011381342\n",
      "Positive : 0.98360175\n"
     ]
    }
   ],
   "source": [
    "#sample_tweet = sample['text'].iloc[12014]\n",
    "sample_tweet = 'I am SO incredibly excited to get Away from here for 5 days😩 I just need a break... ¿You know?'  # this evaluates wrong sentiment\n",
    "preprocessed = preprocess_tweet(sample_tweet)\n",
    "print(preprocessed)\n",
    "\n",
    "processed = tokenizer(preprocessed, return_tensors='pt')\n",
    "\n",
    "output = model(**processed)\n",
    "scores = output[0][0].detach().numpy()\n",
    "scores = softmax(scores)\n",
    "\n",
    "for i in range(len(scores)):\n",
    "    print(labels[i], \":\", scores[i])"
   ]
  }
 ],
 "metadata": {
  "kernelspec": {
   "display_name": "Python 3",
   "language": "python",
   "name": "python3"
  },
  "language_info": {
   "codemirror_mode": {
    "name": "ipython",
    "version": 3
   },
   "file_extension": ".py",
   "mimetype": "text/x-python",
   "name": "python",
   "nbconvert_exporter": "python",
   "pygments_lexer": "ipython3",
   "version": "3.10.12"
  },
  "orig_nbformat": 4
 },
 "nbformat": 4,
 "nbformat_minor": 2
}
